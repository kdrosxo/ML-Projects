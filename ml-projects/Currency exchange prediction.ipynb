{
 "cells": [
  {
   "cell_type": "code",
   "execution_count": 1,
   "id": "88c4a487",
   "metadata": {},
   "outputs": [],
   "source": [
    "import numpy as np\n",
    "import pandas as pd\n",
    "import matplotlib.pyplot as plt\n",
    "import seaborn as sns "
   ]
  },
  {
   "cell_type": "code",
   "execution_count": 2,
   "id": "5ae1573a",
   "metadata": {},
   "outputs": [],
   "source": [
    "sns.set()\n",
    "plt.style.use('seaborn-darkgrid')"
   ]
  },
  {
   "cell_type": "code",
   "execution_count": 3,
   "id": "84f53361",
   "metadata": {},
   "outputs": [],
   "source": [
    "df = pd.read_csv('eurotodollar.csv')"
   ]
  },
  {
   "cell_type": "code",
   "execution_count": 24,
   "id": "8c916fc4",
   "metadata": {},
   "outputs": [],
   "source": [
    "df.replace([np.inf, -np.inf], np.nan, inplace=True)"
   ]
  },
  {
   "cell_type": "code",
   "execution_count": 25,
   "id": "5fdadf7e",
   "metadata": {},
   "outputs": [],
   "source": [
    "pd.set_option('use_inf_as_na',True)"
   ]
  },
  {
   "cell_type": "code",
   "execution_count": 27,
   "id": "42068fb7",
   "metadata": {
    "scrolled": true
   },
   "outputs": [
    {
     "data": {
      "text/html": [
       "<div>\n",
       "<style scoped>\n",
       "    .dataframe tbody tr th:only-of-type {\n",
       "        vertical-align: middle;\n",
       "    }\n",
       "\n",
       "    .dataframe tbody tr th {\n",
       "        vertical-align: top;\n",
       "    }\n",
       "\n",
       "    .dataframe thead th {\n",
       "        text-align: right;\n",
       "    }\n",
       "</style>\n",
       "<table border=\"1\" class=\"dataframe\">\n",
       "  <thead>\n",
       "    <tr style=\"text-align: right;\">\n",
       "      <th></th>\n",
       "      <th>Open</th>\n",
       "      <th>High</th>\n",
       "      <th>Low</th>\n",
       "      <th>Close</th>\n",
       "      <th>Adj Close</th>\n",
       "      <th>Volume</th>\n",
       "    </tr>\n",
       "  </thead>\n",
       "  <tbody>\n",
       "    <tr>\n",
       "      <th>count</th>\n",
       "      <td>1303.000000</td>\n",
       "      <td>1303.000000</td>\n",
       "      <td>1303.000000</td>\n",
       "      <td>1303.000000</td>\n",
       "      <td>1303.000000</td>\n",
       "      <td>1303.0</td>\n",
       "    </tr>\n",
       "    <tr>\n",
       "      <th>mean</th>\n",
       "      <td>0.870301</td>\n",
       "      <td>0.872884</td>\n",
       "      <td>0.867848</td>\n",
       "      <td>0.870280</td>\n",
       "      <td>0.870280</td>\n",
       "      <td>0.0</td>\n",
       "    </tr>\n",
       "    <tr>\n",
       "      <th>std</th>\n",
       "      <td>0.035697</td>\n",
       "      <td>0.036067</td>\n",
       "      <td>0.035460</td>\n",
       "      <td>0.035706</td>\n",
       "      <td>0.035706</td>\n",
       "      <td>0.0</td>\n",
       "    </tr>\n",
       "    <tr>\n",
       "      <th>min</th>\n",
       "      <td>0.799190</td>\n",
       "      <td>0.803180</td>\n",
       "      <td>0.796300</td>\n",
       "      <td>0.799360</td>\n",
       "      <td>0.799360</td>\n",
       "      <td>0.0</td>\n",
       "    </tr>\n",
       "    <tr>\n",
       "      <th>25%</th>\n",
       "      <td>0.844415</td>\n",
       "      <td>0.847025</td>\n",
       "      <td>0.842345</td>\n",
       "      <td>0.844400</td>\n",
       "      <td>0.844400</td>\n",
       "      <td>0.0</td>\n",
       "    </tr>\n",
       "    <tr>\n",
       "      <th>50%</th>\n",
       "      <td>0.867230</td>\n",
       "      <td>0.869060</td>\n",
       "      <td>0.864300</td>\n",
       "      <td>0.867050</td>\n",
       "      <td>0.867050</td>\n",
       "      <td>0.0</td>\n",
       "    </tr>\n",
       "    <tr>\n",
       "      <th>75%</th>\n",
       "      <td>0.894175</td>\n",
       "      <td>0.897055</td>\n",
       "      <td>0.891821</td>\n",
       "      <td>0.894075</td>\n",
       "      <td>0.894075</td>\n",
       "      <td>0.0</td>\n",
       "    </tr>\n",
       "    <tr>\n",
       "      <th>max</th>\n",
       "      <td>0.997440</td>\n",
       "      <td>1.004660</td>\n",
       "      <td>0.995100</td>\n",
       "      <td>0.997440</td>\n",
       "      <td>0.997440</td>\n",
       "      <td>0.0</td>\n",
       "    </tr>\n",
       "  </tbody>\n",
       "</table>\n",
       "</div>"
      ],
      "text/plain": [
       "              Open         High          Low        Close    Adj Close  Volume\n",
       "count  1303.000000  1303.000000  1303.000000  1303.000000  1303.000000  1303.0\n",
       "mean      0.870301     0.872884     0.867848     0.870280     0.870280     0.0\n",
       "std       0.035697     0.036067     0.035460     0.035706     0.035706     0.0\n",
       "min       0.799190     0.803180     0.796300     0.799360     0.799360     0.0\n",
       "25%       0.844415     0.847025     0.842345     0.844400     0.844400     0.0\n",
       "50%       0.867230     0.869060     0.864300     0.867050     0.867050     0.0\n",
       "75%       0.894175     0.897055     0.891821     0.894075     0.894075     0.0\n",
       "max       0.997440     1.004660     0.995100     0.997440     0.997440     0.0"
      ]
     },
     "execution_count": 27,
     "metadata": {},
     "output_type": "execute_result"
    }
   ],
   "source": [
    "df.describe()"
   ]
  },
  {
   "cell_type": "code",
   "execution_count": 28,
   "id": "4d05511f",
   "metadata": {},
   "outputs": [
    {
     "data": {
      "text/html": [
       "<div>\n",
       "<style scoped>\n",
       "    .dataframe tbody tr th:only-of-type {\n",
       "        vertical-align: middle;\n",
       "    }\n",
       "\n",
       "    .dataframe tbody tr th {\n",
       "        vertical-align: top;\n",
       "    }\n",
       "\n",
       "    .dataframe thead th {\n",
       "        text-align: right;\n",
       "    }\n",
       "</style>\n",
       "<table border=\"1\" class=\"dataframe\">\n",
       "  <thead>\n",
       "    <tr style=\"text-align: right;\">\n",
       "      <th></th>\n",
       "      <th>Date</th>\n",
       "      <th>Open</th>\n",
       "      <th>High</th>\n",
       "      <th>Low</th>\n",
       "      <th>Close</th>\n",
       "      <th>Adj Close</th>\n",
       "      <th>Volume</th>\n",
       "    </tr>\n",
       "  </thead>\n",
       "  <tbody>\n",
       "    <tr>\n",
       "      <th>0</th>\n",
       "      <td>2017-07-20</td>\n",
       "      <td>0.86739</td>\n",
       "      <td>0.87107</td>\n",
       "      <td>0.85837</td>\n",
       "      <td>0.86742</td>\n",
       "      <td>0.86742</td>\n",
       "      <td>0.0</td>\n",
       "    </tr>\n",
       "    <tr>\n",
       "      <th>1</th>\n",
       "      <td>2017-07-21</td>\n",
       "      <td>0.85999</td>\n",
       "      <td>0.86057</td>\n",
       "      <td>0.85652</td>\n",
       "      <td>0.85994</td>\n",
       "      <td>0.85994</td>\n",
       "      <td>0.0</td>\n",
       "    </tr>\n",
       "    <tr>\n",
       "      <th>2</th>\n",
       "      <td>2017-07-24</td>\n",
       "      <td>0.85605</td>\n",
       "      <td>0.85972</td>\n",
       "      <td>0.85604</td>\n",
       "      <td>0.85604</td>\n",
       "      <td>0.85604</td>\n",
       "      <td>0.0</td>\n",
       "    </tr>\n",
       "    <tr>\n",
       "      <th>3</th>\n",
       "      <td>2017-07-25</td>\n",
       "      <td>0.85919</td>\n",
       "      <td>0.85973</td>\n",
       "      <td>0.85420</td>\n",
       "      <td>0.85919</td>\n",
       "      <td>0.85919</td>\n",
       "      <td>0.0</td>\n",
       "    </tr>\n",
       "    <tr>\n",
       "      <th>4</th>\n",
       "      <td>2017-07-26</td>\n",
       "      <td>0.85886</td>\n",
       "      <td>0.86090</td>\n",
       "      <td>0.85800</td>\n",
       "      <td>0.85877</td>\n",
       "      <td>0.85877</td>\n",
       "      <td>0.0</td>\n",
       "    </tr>\n",
       "    <tr>\n",
       "      <th>...</th>\n",
       "      <td>...</td>\n",
       "      <td>...</td>\n",
       "      <td>...</td>\n",
       "      <td>...</td>\n",
       "      <td>...</td>\n",
       "      <td>...</td>\n",
       "      <td>...</td>\n",
       "    </tr>\n",
       "    <tr>\n",
       "      <th>1300</th>\n",
       "      <td>2022-07-14</td>\n",
       "      <td>0.99674</td>\n",
       "      <td>1.00466</td>\n",
       "      <td>0.99510</td>\n",
       "      <td>0.99674</td>\n",
       "      <td>0.99674</td>\n",
       "      <td>0.0</td>\n",
       "    </tr>\n",
       "    <tr>\n",
       "      <th>1301</th>\n",
       "      <td>2022-07-15</td>\n",
       "      <td>0.99744</td>\n",
       "      <td>0.99894</td>\n",
       "      <td>0.99030</td>\n",
       "      <td>0.99744</td>\n",
       "      <td>0.99744</td>\n",
       "      <td>0.0</td>\n",
       "    </tr>\n",
       "    <tr>\n",
       "      <th>1302</th>\n",
       "      <td>2022-07-18</td>\n",
       "      <td>0.99046</td>\n",
       "      <td>0.99183</td>\n",
       "      <td>0.98050</td>\n",
       "      <td>0.99046</td>\n",
       "      <td>0.99046</td>\n",
       "      <td>0.0</td>\n",
       "    </tr>\n",
       "    <tr>\n",
       "      <th>1303</th>\n",
       "      <td>2022-07-19</td>\n",
       "      <td>0.98569</td>\n",
       "      <td>0.98759</td>\n",
       "      <td>0.97388</td>\n",
       "      <td>0.98569</td>\n",
       "      <td>0.98569</td>\n",
       "      <td>0.0</td>\n",
       "    </tr>\n",
       "    <tr>\n",
       "      <th>1304</th>\n",
       "      <td>2022-07-20</td>\n",
       "      <td>0.97740</td>\n",
       "      <td>0.98440</td>\n",
       "      <td>0.97340</td>\n",
       "      <td>0.98230</td>\n",
       "      <td>0.98230</td>\n",
       "      <td>0.0</td>\n",
       "    </tr>\n",
       "  </tbody>\n",
       "</table>\n",
       "<p>1303 rows × 7 columns</p>\n",
       "</div>"
      ],
      "text/plain": [
       "            Date     Open     High      Low    Close  Adj Close  Volume\n",
       "0     2017-07-20  0.86739  0.87107  0.85837  0.86742    0.86742     0.0\n",
       "1     2017-07-21  0.85999  0.86057  0.85652  0.85994    0.85994     0.0\n",
       "2     2017-07-24  0.85605  0.85972  0.85604  0.85604    0.85604     0.0\n",
       "3     2017-07-25  0.85919  0.85973  0.85420  0.85919    0.85919     0.0\n",
       "4     2017-07-26  0.85886  0.86090  0.85800  0.85877    0.85877     0.0\n",
       "...          ...      ...      ...      ...      ...        ...     ...\n",
       "1300  2022-07-14  0.99674  1.00466  0.99510  0.99674    0.99674     0.0\n",
       "1301  2022-07-15  0.99744  0.99894  0.99030  0.99744    0.99744     0.0\n",
       "1302  2022-07-18  0.99046  0.99183  0.98050  0.99046    0.99046     0.0\n",
       "1303  2022-07-19  0.98569  0.98759  0.97388  0.98569    0.98569     0.0\n",
       "1304  2022-07-20  0.97740  0.98440  0.97340  0.98230    0.98230     0.0\n",
       "\n",
       "[1303 rows x 7 columns]"
      ]
     },
     "execution_count": 28,
     "metadata": {},
     "output_type": "execute_result"
    }
   ],
   "source": [
    "df.dropna()"
   ]
  },
  {
   "cell_type": "code",
   "execution_count": 34,
   "id": "7311f1da",
   "metadata": {},
   "outputs": [],
   "source": [
    "pd.set_option('mode.use_inf_as_na', True)\n",
    "df.dropna(inplace=True)"
   ]
  },
  {
   "cell_type": "code",
   "execution_count": 35,
   "id": "b539ca7a",
   "metadata": {},
   "outputs": [
    {
     "data": {
      "text/html": [
       "<div>\n",
       "<style scoped>\n",
       "    .dataframe tbody tr th:only-of-type {\n",
       "        vertical-align: middle;\n",
       "    }\n",
       "\n",
       "    .dataframe tbody tr th {\n",
       "        vertical-align: top;\n",
       "    }\n",
       "\n",
       "    .dataframe thead th {\n",
       "        text-align: right;\n",
       "    }\n",
       "</style>\n",
       "<table border=\"1\" class=\"dataframe\">\n",
       "  <thead>\n",
       "    <tr style=\"text-align: right;\">\n",
       "      <th></th>\n",
       "      <th>Date</th>\n",
       "      <th>Open</th>\n",
       "      <th>High</th>\n",
       "      <th>Low</th>\n",
       "      <th>Close</th>\n",
       "      <th>Adj Close</th>\n",
       "      <th>Volume</th>\n",
       "    </tr>\n",
       "  </thead>\n",
       "  <tbody>\n",
       "    <tr>\n",
       "      <th>0</th>\n",
       "      <td>2017-07-20</td>\n",
       "      <td>0.86739</td>\n",
       "      <td>0.87107</td>\n",
       "      <td>0.85837</td>\n",
       "      <td>0.86742</td>\n",
       "      <td>0.86742</td>\n",
       "      <td>0.0</td>\n",
       "    </tr>\n",
       "    <tr>\n",
       "      <th>1</th>\n",
       "      <td>2017-07-21</td>\n",
       "      <td>0.85999</td>\n",
       "      <td>0.86057</td>\n",
       "      <td>0.85652</td>\n",
       "      <td>0.85994</td>\n",
       "      <td>0.85994</td>\n",
       "      <td>0.0</td>\n",
       "    </tr>\n",
       "    <tr>\n",
       "      <th>2</th>\n",
       "      <td>2017-07-24</td>\n",
       "      <td>0.85605</td>\n",
       "      <td>0.85972</td>\n",
       "      <td>0.85604</td>\n",
       "      <td>0.85604</td>\n",
       "      <td>0.85604</td>\n",
       "      <td>0.0</td>\n",
       "    </tr>\n",
       "    <tr>\n",
       "      <th>3</th>\n",
       "      <td>2017-07-25</td>\n",
       "      <td>0.85919</td>\n",
       "      <td>0.85973</td>\n",
       "      <td>0.85420</td>\n",
       "      <td>0.85919</td>\n",
       "      <td>0.85919</td>\n",
       "      <td>0.0</td>\n",
       "    </tr>\n",
       "    <tr>\n",
       "      <th>4</th>\n",
       "      <td>2017-07-26</td>\n",
       "      <td>0.85886</td>\n",
       "      <td>0.86090</td>\n",
       "      <td>0.85800</td>\n",
       "      <td>0.85877</td>\n",
       "      <td>0.85877</td>\n",
       "      <td>0.0</td>\n",
       "    </tr>\n",
       "    <tr>\n",
       "      <th>...</th>\n",
       "      <td>...</td>\n",
       "      <td>...</td>\n",
       "      <td>...</td>\n",
       "      <td>...</td>\n",
       "      <td>...</td>\n",
       "      <td>...</td>\n",
       "      <td>...</td>\n",
       "    </tr>\n",
       "    <tr>\n",
       "      <th>1300</th>\n",
       "      <td>2022-07-14</td>\n",
       "      <td>0.99674</td>\n",
       "      <td>1.00466</td>\n",
       "      <td>0.99510</td>\n",
       "      <td>0.99674</td>\n",
       "      <td>0.99674</td>\n",
       "      <td>0.0</td>\n",
       "    </tr>\n",
       "    <tr>\n",
       "      <th>1301</th>\n",
       "      <td>2022-07-15</td>\n",
       "      <td>0.99744</td>\n",
       "      <td>0.99894</td>\n",
       "      <td>0.99030</td>\n",
       "      <td>0.99744</td>\n",
       "      <td>0.99744</td>\n",
       "      <td>0.0</td>\n",
       "    </tr>\n",
       "    <tr>\n",
       "      <th>1302</th>\n",
       "      <td>2022-07-18</td>\n",
       "      <td>0.99046</td>\n",
       "      <td>0.99183</td>\n",
       "      <td>0.98050</td>\n",
       "      <td>0.99046</td>\n",
       "      <td>0.99046</td>\n",
       "      <td>0.0</td>\n",
       "    </tr>\n",
       "    <tr>\n",
       "      <th>1303</th>\n",
       "      <td>2022-07-19</td>\n",
       "      <td>0.98569</td>\n",
       "      <td>0.98759</td>\n",
       "      <td>0.97388</td>\n",
       "      <td>0.98569</td>\n",
       "      <td>0.98569</td>\n",
       "      <td>0.0</td>\n",
       "    </tr>\n",
       "    <tr>\n",
       "      <th>1304</th>\n",
       "      <td>2022-07-20</td>\n",
       "      <td>0.97740</td>\n",
       "      <td>0.98440</td>\n",
       "      <td>0.97340</td>\n",
       "      <td>0.98230</td>\n",
       "      <td>0.98230</td>\n",
       "      <td>0.0</td>\n",
       "    </tr>\n",
       "  </tbody>\n",
       "</table>\n",
       "<p>1303 rows × 7 columns</p>\n",
       "</div>"
      ],
      "text/plain": [
       "            Date     Open     High      Low    Close  Adj Close  Volume\n",
       "0     2017-07-20  0.86739  0.87107  0.85837  0.86742    0.86742     0.0\n",
       "1     2017-07-21  0.85999  0.86057  0.85652  0.85994    0.85994     0.0\n",
       "2     2017-07-24  0.85605  0.85972  0.85604  0.85604    0.85604     0.0\n",
       "3     2017-07-25  0.85919  0.85973  0.85420  0.85919    0.85919     0.0\n",
       "4     2017-07-26  0.85886  0.86090  0.85800  0.85877    0.85877     0.0\n",
       "...          ...      ...      ...      ...      ...        ...     ...\n",
       "1300  2022-07-14  0.99674  1.00466  0.99510  0.99674    0.99674     0.0\n",
       "1301  2022-07-15  0.99744  0.99894  0.99030  0.99744    0.99744     0.0\n",
       "1302  2022-07-18  0.99046  0.99183  0.98050  0.99046    0.99046     0.0\n",
       "1303  2022-07-19  0.98569  0.98759  0.97388  0.98569    0.98569     0.0\n",
       "1304  2022-07-20  0.97740  0.98440  0.97340  0.98230    0.98230     0.0\n",
       "\n",
       "[1303 rows x 7 columns]"
      ]
     },
     "execution_count": 35,
     "metadata": {},
     "output_type": "execute_result"
    }
   ],
   "source": [
    "df.dropna()"
   ]
  },
  {
   "cell_type": "code",
   "execution_count": 36,
   "id": "ea5eab76",
   "metadata": {
    "scrolled": true
   },
   "outputs": [
    {
     "data": {
      "text/html": [
       "<div>\n",
       "<style scoped>\n",
       "    .dataframe tbody tr th:only-of-type {\n",
       "        vertical-align: middle;\n",
       "    }\n",
       "\n",
       "    .dataframe tbody tr th {\n",
       "        vertical-align: top;\n",
       "    }\n",
       "\n",
       "    .dataframe thead th {\n",
       "        text-align: right;\n",
       "    }\n",
       "</style>\n",
       "<table border=\"1\" class=\"dataframe\">\n",
       "  <thead>\n",
       "    <tr style=\"text-align: right;\">\n",
       "      <th></th>\n",
       "      <th>Open</th>\n",
       "      <th>High</th>\n",
       "      <th>Low</th>\n",
       "      <th>Close</th>\n",
       "      <th>Adj Close</th>\n",
       "      <th>Volume</th>\n",
       "    </tr>\n",
       "  </thead>\n",
       "  <tbody>\n",
       "    <tr>\n",
       "      <th>count</th>\n",
       "      <td>1303.000000</td>\n",
       "      <td>1303.000000</td>\n",
       "      <td>1303.000000</td>\n",
       "      <td>1303.000000</td>\n",
       "      <td>1303.000000</td>\n",
       "      <td>1303.0</td>\n",
       "    </tr>\n",
       "    <tr>\n",
       "      <th>mean</th>\n",
       "      <td>0.870301</td>\n",
       "      <td>0.872884</td>\n",
       "      <td>0.867848</td>\n",
       "      <td>0.870280</td>\n",
       "      <td>0.870280</td>\n",
       "      <td>0.0</td>\n",
       "    </tr>\n",
       "    <tr>\n",
       "      <th>std</th>\n",
       "      <td>0.035697</td>\n",
       "      <td>0.036067</td>\n",
       "      <td>0.035460</td>\n",
       "      <td>0.035706</td>\n",
       "      <td>0.035706</td>\n",
       "      <td>0.0</td>\n",
       "    </tr>\n",
       "    <tr>\n",
       "      <th>min</th>\n",
       "      <td>0.799190</td>\n",
       "      <td>0.803180</td>\n",
       "      <td>0.796300</td>\n",
       "      <td>0.799360</td>\n",
       "      <td>0.799360</td>\n",
       "      <td>0.0</td>\n",
       "    </tr>\n",
       "    <tr>\n",
       "      <th>25%</th>\n",
       "      <td>0.844415</td>\n",
       "      <td>0.847025</td>\n",
       "      <td>0.842345</td>\n",
       "      <td>0.844400</td>\n",
       "      <td>0.844400</td>\n",
       "      <td>0.0</td>\n",
       "    </tr>\n",
       "    <tr>\n",
       "      <th>50%</th>\n",
       "      <td>0.867230</td>\n",
       "      <td>0.869060</td>\n",
       "      <td>0.864300</td>\n",
       "      <td>0.867050</td>\n",
       "      <td>0.867050</td>\n",
       "      <td>0.0</td>\n",
       "    </tr>\n",
       "    <tr>\n",
       "      <th>75%</th>\n",
       "      <td>0.894175</td>\n",
       "      <td>0.897055</td>\n",
       "      <td>0.891821</td>\n",
       "      <td>0.894075</td>\n",
       "      <td>0.894075</td>\n",
       "      <td>0.0</td>\n",
       "    </tr>\n",
       "    <tr>\n",
       "      <th>max</th>\n",
       "      <td>0.997440</td>\n",
       "      <td>1.004660</td>\n",
       "      <td>0.995100</td>\n",
       "      <td>0.997440</td>\n",
       "      <td>0.997440</td>\n",
       "      <td>0.0</td>\n",
       "    </tr>\n",
       "  </tbody>\n",
       "</table>\n",
       "</div>"
      ],
      "text/plain": [
       "              Open         High          Low        Close    Adj Close  Volume\n",
       "count  1303.000000  1303.000000  1303.000000  1303.000000  1303.000000  1303.0\n",
       "mean      0.870301     0.872884     0.867848     0.870280     0.870280     0.0\n",
       "std       0.035697     0.036067     0.035460     0.035706     0.035706     0.0\n",
       "min       0.799190     0.803180     0.796300     0.799360     0.799360     0.0\n",
       "25%       0.844415     0.847025     0.842345     0.844400     0.844400     0.0\n",
       "50%       0.867230     0.869060     0.864300     0.867050     0.867050     0.0\n",
       "75%       0.894175     0.897055     0.891821     0.894075     0.894075     0.0\n",
       "max       0.997440     1.004660     0.995100     0.997440     0.997440     0.0"
      ]
     },
     "execution_count": 36,
     "metadata": {},
     "output_type": "execute_result"
    }
   ],
   "source": [
    "df.describe()"
   ]
  },
  {
   "cell_type": "code",
   "execution_count": 5,
   "id": "f11a5ac1",
   "metadata": {},
   "outputs": [],
   "source": [
    "#Target value is of course the Currency rate at the closing "
   ]
  },
  {
   "cell_type": "code",
   "execution_count": 37,
   "id": "005e50aa",
   "metadata": {},
   "outputs": [
    {
     "data": {
      "image/png": "[encoded data removed]",
      "text/plain": [
       "<Figure size 1440x576 with 1 Axes>"
      ]
     },
     "metadata": {},
     "output_type": "display_data"
    }
   ],
   "source": [
    "plt.figure(figsize = (20,8))\n",
    "plt.title(\"EUR - USD Rate\")\n",
    "plt.xlabel('Date')\n",
    "plt.ylabel('Closing value')\n",
    "plt.plot(df['Close'])\n",
    "plt.show()"
   ]
  },
  {
   "cell_type": "code",
   "execution_count": 38,
   "id": "aabf7b0f",
   "metadata": {},
   "outputs": [
    {
     "data": {
      "image/png": "[encoded data removed]",
      "text/plain": [
       "<Figure size 432x288 with 2 Axes>"
      ]
     },
     "metadata": {},
     "output_type": "display_data"
    }
   ],
   "source": [
    "sns.heatmap(df.corr(),linewidths=5)\n",
    "plt.show()"
   ]
  },
  {
   "cell_type": "code",
   "execution_count": 39,
   "id": "97622939",
   "metadata": {},
   "outputs": [],
   "source": [
    "x = df[['Open','High','Low']]\n",
    "y = df['Close']"
   ]
  },
  {
   "cell_type": "code",
   "execution_count": 40,
   "id": "f7b655e8",
   "metadata": {},
   "outputs": [],
   "source": [
    "x = x.to_numpy()\n",
    "y = y.to_numpy()\n",
    "y = y.reshape(-1,1)"
   ]
  },
  {
   "cell_type": "code",
   "execution_count": null,
   "id": "c3efabc9",
   "metadata": {},
   "outputs": [],
   "source": []
  },
  {
   "cell_type": "code",
   "execution_count": 55,
   "id": "361ccc3c",
   "metadata": {},
   "outputs": [],
   "source": [
    "from sklearn.linear_model import LinearRegression\n",
    "from sklearn.tree import DecisionTreeRegressor\n",
    "from sklearn.model_selection import train_test_split\n",
    "x_train,x_test,y_train,y_test = train_test_split(x,y)"
   ]
  },
  {
   "cell_type": "code",
   "execution_count": 60,
   "id": "969a9744",
   "metadata": {},
   "outputs": [],
   "source": [
    "model = LinearRegression()\n",
    "model2 = DecisionTreeRegressor()"
   ]
  },
  {
   "cell_type": "code",
   "execution_count": 61,
   "id": "00640cdd",
   "metadata": {
    "scrolled": true
   },
   "outputs": [
    {
     "data": {
      "text/plain": [
       "LinearRegression()"
      ]
     },
     "execution_count": 61,
     "metadata": {},
     "output_type": "execute_result"
    }
   ],
   "source": [
    "model.fit(x_train,y_train)"
   ]
  },
  {
   "cell_type": "code",
   "execution_count": 62,
   "id": "2879b868",
   "metadata": {},
   "outputs": [
    {
     "data": {
      "text/plain": [
       "DecisionTreeRegressor()"
      ]
     },
     "execution_count": 62,
     "metadata": {},
     "output_type": "execute_result"
    }
   ],
   "source": [
    "model2.fit(x_train,y_train)"
   ]
  },
  {
   "cell_type": "code",
   "execution_count": 63,
   "id": "41c1deda",
   "metadata": {},
   "outputs": [],
   "source": [
    "predicted = model.predict(x_test)\n",
    "predicted2 = model2.predict(x_test)"
   ]
  },
  {
   "cell_type": "code",
   "execution_count": 70,
   "id": "d62fe480",
   "metadata": {},
   "outputs": [],
   "source": [
    "data = pd.DataFrame(data={\"Predicted Rate with Linear Regression\": predicted.flatten()})\n",
    "data2 = pd.DataFrame(data={\"Predicted Rate with Decision Tree Regressor\": predicted2.flatten()})"
   ]
  },
  {
   "cell_type": "code",
   "execution_count": 71,
   "id": "e8cddb03",
   "metadata": {},
   "outputs": [
    {
     "name": "stdout",
     "output_type": "stream",
     "text": [
      "   Predicted Rate with Linear Regression\n",
      "0                               0.856935\n",
      "1                               0.848768\n",
      "2                               0.818148\n",
      "3                               0.894968\n",
      "4                               0.820039\n",
      "   Predicted Rate with Decision Tree Regressor\n",
      "0                                     0.857000\n",
      "1                                     0.848600\n",
      "2                                     0.818063\n",
      "3                                     0.894970\n",
      "4                                     0.819700\n"
     ]
    },
    {
     "data": {
      "text/plain": [
       "(None, None)"
      ]
     },
     "execution_count": 71,
     "metadata": {},
     "output_type": "execute_result"
    }
   ],
   "source": [
    "print(data.head()) ,print(data2.head())"
   ]
  },
  {
   "cell_type": "code",
   "execution_count": null,
   "id": "08371025",
   "metadata": {},
   "outputs": [],
   "source": []
  }
 ],
 "metadata": {
  "kernelspec": {
   "display_name": "Python 3 (ipykernel)",
   "language": "python",
   "name": "python3"
  },
  "language_info": {
   "codemirror_mode": {
    "name": "ipython",
    "version": 3
   },
   "file_extension": ".py",
   "mimetype": "text/x-python",
   "name": "python",
   "nbconvert_exporter": "python",
   "pygments_lexer": "ipython3",
   "version": "3.9.7"
  }
 },
 "nbformat": 4,
 "nbformat_minor": 5
}
